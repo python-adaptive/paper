{
 "cells": [
  {
   "cell_type": "code",
   "execution_count": null,
   "metadata": {},
   "outputs": [],
   "source": [
    "import adaptive\n",
    "adaptive.notebook_extension()"
   ]
  },
  {
   "cell_type": "code",
   "execution_count": null,
   "metadata": {},
   "outputs": [],
   "source": [
    "import phase_diagram as funcs\n",
    "\n",
    "lead_pars = dict(\n",
    "    a=10, r1=50, r2=70, coverage_angle=135, angle=45, with_shell=True, which_lead=\"\"\n",
    ")\n",
    "\n",
    "params = dict(\n",
    "    alpha=20,\n",
    "    B_x=0,\n",
    "    B_y=0,\n",
    "    B_z=0,\n",
    "    Delta=110,\n",
    "    g=50,\n",
    "    orbital=True,\n",
    "    mu_sc=100,\n",
    "    c_tunnel=3 / 4,\n",
    "    V_r=-50,\n",
    "    intrinsic_sc=False,\n",
    "    mu_=lambda x0, sigma, mu_lead, mu_wire: mu_lead,\n",
    "    V_=lambda z, V_0, V_r, V_l, x0, sigma, r1: 0,\n",
    "    V_0=None,\n",
    "    V_l=None,\n",
    "    mu_lead=10,\n",
    "    mu_wire=None,\n",
    "    r1=None,\n",
    "    sigma=None,\n",
    "    x0=None,\n",
    "    **funcs.constants.__dict__\n",
    ")\n",
    "\n",
    "\n",
    "def pf(xy, params=params, lead_pars=lead_pars):\n",
    "    import phase_diagram as funcs\n",
    "\n",
    "    params[\"B_x\"], params[\"mu_lead\"] = xy\n",
    "    lead = funcs.make_lead(**lead_pars).finalized()\n",
    "    return funcs.calculate_pfaffian(lead, params)\n",
    "\n",
    "\n",
    "def smallest_gap(xy, params=params, lead_pars=lead_pars):\n",
    "    import phase_diagram as funcs\n",
    "\n",
    "    params[\"B_x\"], params[\"mu_lead\"] = xy\n",
    "    lead = funcs.make_lead(**lead_pars).finalized()\n",
    "    pf = funcs.calculate_pfaffian(lead, params)\n",
    "    gap = funcs.gap_from_modes(lead, params)\n",
    "    return pf * gap"
   ]
  },
  {
   "cell_type": "code",
   "execution_count": null,
   "metadata": {},
   "outputs": [],
   "source": [
    "learner = adaptive.Learner2D(smallest_gap, bounds=[(0, 2), (0, 35)])\n",
    "# learner.load('phase_diagram.pickle')"
   ]
  },
  {
   "cell_type": "code",
   "execution_count": null,
   "metadata": {},
   "outputs": [],
   "source": [
    "runner = adaptive.Runner(learner, goal=lambda l: l.npoints > 60000)"
   ]
  },
  {
   "cell_type": "code",
   "execution_count": null,
   "metadata": {},
   "outputs": [],
   "source": [
    "runner.live_info()"
   ]
  },
  {
   "cell_type": "code",
   "execution_count": null,
   "metadata": {},
   "outputs": [],
   "source": [
    "%%output size=100\n",
    "learner.plot(tri_alpha=0.4, n=None)"
   ]
  },
  {
   "cell_type": "code",
   "execution_count": null,
   "metadata": {},
   "outputs": [],
   "source": [
    "learner.save('phase_diagram.pickle')"
   ]
  },
  {
   "cell_type": "code",
   "execution_count": null,
   "metadata": {},
   "outputs": [],
   "source": []
  }
 ],
 "metadata": {
  "language_info": {
   "name": "python",
   "pygments_lexer": "ipython3"
  }
 },
 "nbformat": 4,
 "nbformat_minor": 2
}
